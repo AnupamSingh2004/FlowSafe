{
 "cells": [
  {
   "cell_type": "code",
   "execution_count": 9,
   "id": "e220c65e",
   "metadata": {},
   "outputs": [
    {
     "data": {
      "text/plain": [
       "Disease\n",
       "Dengue     5131\n",
       "Malaria    1780\n",
       "Healthy    1748\n",
       "Typhoid    1341\n",
       "Name: count, dtype: int64"
      ]
     },
     "execution_count": 9,
     "metadata": {},
     "output_type": "execute_result"
    }
   ],
   "source": [
    "import pandas as pd\n",
    "import numpy as np\n",
    "from sklearn.ensemble import RandomForestClassifier\n",
    "from sklearn.model_selection import train_test_split\n",
    "from sklearn.preprocessing import LabelEncoder, StandardScaler\n",
    "from sklearn.ensemble import RandomForestClassifier\n",
    "from sklearn.metrics import classification_report, confusion_matrix\n",
    "from sklearn.linear_model import LogisticRegression\n",
    "from xgboost import XGBClassifier\n",
    "from sklearn.pipeline import Pipeline\n",
    "\n",
    "file_path = 'delhi_disease_data_10000.csv'\n",
    "df = pd.read_csv(file_path)\n",
    "\n",
    "def assign_disease(row):\n",
    "    # Primary conditions for specific diseases\n",
    "    if row['Rainfall_mm'] > 100 and row['FeverCases'] > 25:\n",
    "        return 'Dengue'\n",
    "    elif row['Humidity_pct'] > 85 and row['ToiletUsage_pct'] < 75:\n",
    "        return 'Typhoid'\n",
    "    elif row['WaterIndex'] > 0.6 and row['NDVI'] < 0.4:\n",
    "        return 'Malaria'\n",
    "    elif row['FeverCases'] < 10 and row['Absenteeism_pct'] < 5:\n",
    "        return 'Healthy'\n",
    "    \n",
    "    # Secondary conditions - more relaxed criteria to avoid \"Other\"\n",
    "    elif row['Rainfall_mm'] > 50 and row['FeverCases'] > 15:\n",
    "        return 'Dengue'\n",
    "    elif row['Humidity_pct'] > 70 and row['ToiletUsage_pct'] < 80:\n",
    "        return 'Typhoid'\n",
    "    elif row['WaterIndex'] > 0.4 and row['NDVI'] < 0.5:\n",
    "        return 'Malaria'\n",
    "    elif row['FeverCases'] < 15 and row['Absenteeism_pct'] < 10:\n",
    "        return 'Healthy'\n",
    "    \n",
    "    # Tertiary conditions - even more relaxed to capture remaining cases\n",
    "    elif row['FeverCases'] > 20 or row['Rainfall_mm'] > 75:\n",
    "        return 'Dengue'\n",
    "    elif row['Humidity_pct'] > 80 or row['ToiletUsage_pct'] < 70:\n",
    "        return 'Typhoid'\n",
    "    elif row['WaterIndex'] > 0.5 or row['NDVI'] < 0.6:\n",
    "        return 'Malaria'\n",
    "    else:\n",
    "        return 'Healthy'  # Default to Healthy instead of Other\n",
    "\n",
    "df['Disease'] = df.apply(assign_disease, axis=1)\n",
    "\n",
    "df['Disease'].value_counts()\n"
   ]
  },
  {
   "cell_type": "code",
   "execution_count": 10,
   "id": "fb3dc57e",
   "metadata": {},
   "outputs": [],
   "source": [
    "\n",
    "\n",
    "# Encode categorical features\n",
    "df_encoded = df.copy()\n",
    "label_encoders = {}\n",
    "for col in ['Week', 'Location']:\n",
    "    le = LabelEncoder()\n",
    "    df_encoded[col] = le.fit_transform(df_encoded[col])\n",
    "    label_encoders[col] = le\n",
    "\n",
    "# Encode target\n",
    "le_disease = LabelEncoder()\n",
    "df_encoded['Disease'] = le_disease.fit_transform(df_encoded['Disease'])\n",
    "\n",
    "# Feature matrix and target vector\n",
    "X = df_encoded.drop(['Disease', 'DiseaseOutbreak'], axis=1)\n",
    "y = df_encoded['Disease']\n",
    "\n",
    "# Split\n",
    "X_train, X_test, y_train, y_test = train_test_split(X, y, test_size=0.2, random_state=42)\n",
    "\n"
   ]
  },
  {
   "cell_type": "code",
   "execution_count": 11,
   "id": "b97e8b15",
   "metadata": {},
   "outputs": [
    {
     "name": "stderr",
     "output_type": "stream",
     "text": [
      "/home/anupam/miniconda3/envs/prismeet-backend/lib/python3.11/site-packages/xgboost/training.py:183: UserWarning: [01:46:06] WARNING: /croot/xgboost-split_1749630910898/work/src/learner.cc:738: \n",
      "Parameters: { \"use_label_encoder\" } are not used.\n",
      "\n",
      "  bst.update(dtrain, iteration=i, fobj=obj)\n"
     ]
    },
    {
     "data": {
      "text/plain": [
       "{'Dengue': {'precision': 0.9990403071017274,\n",
       "  'recall': 1.0,\n",
       "  'f1-score': 0.99951992318771,\n",
       "  'support': 1041.0},\n",
       " 'Healthy': {'precision': 1.0,\n",
       "  'recall': 0.9937304075235109,\n",
       "  'f1-score': 0.9968553459119497,\n",
       "  'support': 319.0},\n",
       " 'Malaria': {'precision': 0.9916434540389972,\n",
       "  'recall': 0.9971988795518207,\n",
       "  'f1-score': 0.994413407821229,\n",
       "  'support': 357.0},\n",
       " 'Typhoid': {'precision': 0.9964539007092199,\n",
       "  'recall': 0.9929328621908127,\n",
       "  'f1-score': 0.9946902654867257,\n",
       "  'support': 283.0},\n",
       " 'accuracy': 0.9975,\n",
       " 'macro avg': {'precision': 0.9967844154624862,\n",
       "  'recall': 0.9959655373165361,\n",
       "  'f1-score': 0.9963697356019036,\n",
       "  'support': 2000.0},\n",
       " 'weighted avg': {'precision': 0.9975070633427647,\n",
       "  'recall': 0.9975,\n",
       "  'f1-score': 0.9975000135546201,\n",
       "  'support': 2000.0}}"
      ]
     },
     "execution_count": 11,
     "metadata": {},
     "output_type": "execute_result"
    }
   ],
   "source": [
    "# XGBoost models\n",
    "xgb_model = Pipeline([\n",
    "    ('scaler', StandardScaler()),\n",
    "    ('classifier', XGBClassifier(use_label_encoder=False, eval_metric='mlogloss', random_state=42))\n",
    "])\n",
    "\n",
    "# Train and predict with XGBoost\n",
    "xgb_model.fit(X_train, y_train)\n",
    "y_pred_xgb = xgb_model.predict(X_test)\n",
    "report_xgb = classification_report(y_test, y_pred_xgb, target_names=le_disease.classes_, output_dict=True)\n",
    "conf_matrix_xgb = confusion_matrix(y_test, y_pred_xgb)\n",
    "\n",
    "report_xgb"
   ]
  },
  {
   "cell_type": "code",
   "execution_count": 12,
   "id": "a7e79a46",
   "metadata": {},
   "outputs": [
    {
     "data": {
      "text/plain": [
       "['xgb_disease_prediction_model.pkl']"
      ]
     },
     "execution_count": 12,
     "metadata": {},
     "output_type": "execute_result"
    }
   ],
   "source": [
    "import joblib\n",
    "model_path = \"xgb_disease_prediction_model.pkl\"\n",
    "joblib.dump(xgb_model,model_path)"
   ]
  },
  {
   "cell_type": "code",
   "execution_count": null,
   "id": "d1fde243",
   "metadata": {},
   "outputs": [],
   "source": []
  }
 ],
 "metadata": {
  "kernelspec": {
   "display_name": "prismeet-backend",
   "language": "python",
   "name": "python3"
  },
  "language_info": {
   "codemirror_mode": {
    "name": "ipython",
    "version": 3
   },
   "file_extension": ".py",
   "mimetype": "text/x-python",
   "name": "python",
   "nbconvert_exporter": "python",
   "pygments_lexer": "ipython3",
   "version": "3.11.11"
  }
 },
 "nbformat": 4,
 "nbformat_minor": 5
}
